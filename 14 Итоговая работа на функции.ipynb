{
 "cells": [
  {
   "attachments": {},
   "cell_type": "markdown",
   "metadata": {},
   "source": [
    "14.1 Задачи на программирование"
   ]
  },
  {
   "attachments": {},
   "cell_type": "markdown",
   "metadata": {},
   "source": [
    "Звездный треугольник 🌶️\n",
    "\n",
    "Напишите функцию draw_triangle(), которая выводит звездный равнобедренный треугольник с основанием и высотой равными 15 и 8 соответственно.\n",
    "\n",
    "Примечание 1 . Для вывода треугольника используйте цикл for. \n",
    "\n",
    "Примечание 2 . Справа от звездочек пробелов нет."
   ]
  },
  {
   "cell_type": "code",
   "execution_count": null,
   "metadata": {},
   "outputs": [],
   "source": [
    "def draw_triangle():\n",
    "    x='       *'\n",
    "    x1='      ***'\n",
    "    x2='     *****'\n",
    "    x3='    *******'\n",
    "    x4='   *********'\n",
    "    x5='  ***********'\n",
    "    x6=' *************'\n",
    "    x7='***************'\n",
    "    return print(x,x1,x2,x3,x4,x5,x6,x7, sep='\\n')\n",
    "\n",
    "draw_triangle()"
   ]
  },
  {
   "attachments": {},
   "cell_type": "markdown",
   "metadata": {},
   "source": [
    "Калькулятор доставки\n",
    "\n",
    "Интернет магазин осуществляет экспресс доставку для своих товаров по цене 1000 рублей за первый товар и 120 рублей за каждый последующий товар. Напишите функцию get_shipping_cost(quantity), которая принимает в качестве аргумента натуральное число quantity – количество товаров в заказе и возвращает стоимость доставки.\n",
    "\n",
    "Примечание. Следующий программный код:</br>\n",
    "print(get_shipping_cost(1))</br>\n",
    "print(get_shipping_cost(3))\n",
    "\n",
    "должен выводить:</br>\n",
    "1000</br>\n",
    "1240"
   ]
  },
  {
   "cell_type": "code",
   "execution_count": null,
   "metadata": {},
   "outputs": [],
   "source": [
    "def get_shipping_cost(quantity):\n",
    "    if quantity==1:\n",
    "        return 1000\n",
    "    else:\n",
    "        x=quantity-1\n",
    "        return 1000+(x*120)\n",
    "    \n",
    "n = int(input())\n",
    "\n",
    "print(get_shipping_cost(n))"
   ]
  },
  {
   "attachments": {},
   "cell_type": "markdown",
   "metadata": {},
   "source": [
    "Биномиальный коэффициент 🌶️\n",
    "\n",
    "Напишите функцию compute_binom(n, k), которая принимает в качестве аргументов два натуральных числа n и k и возвращает значение биномиального коэффициента, равного n!/(k!(n−k)!).\n",
    "\n",
    "Примечание 1. Факториалом натурального числа n, называется произведение всех натуральных чисел от 1 до n, то есть n!=1 * 2 * 3 * … * n\n",
    "\n",
    "Примечание 2. Реализуйте вспомогательную функцию factorial(n), вычисляющую факториал числа или воспользуйтесь уже готовой функцией из модуля math."
   ]
  },
  {
   "cell_type": "code",
   "execution_count": null,
   "metadata": {},
   "outputs": [],
   "source": [
    "def compute_binom(n, k):\n",
    "    from math import factorial\n",
    "    return factorial(n)/(factorial(k)*factorial(n-k))\n",
    "\n",
    "n = int(input())\n",
    "k = int(input())\n",
    "\n",
    "print(round(compute_binom(n, k)))"
   ]
  },
  {
   "attachments": {},
   "cell_type": "markdown",
   "metadata": {},
   "source": [
    "Число словами 🌶️\n",
    "\n",
    "Напишите функцию number_to_words(num), которая принимает в качестве аргумента натуральное число num и возвращает его словесное описание на русском языке.\n",
    "\n",
    "Примечание 1. Считайте, что число 1≤num ≤99.\n",
    "\n",
    "Примечание 2. Следующий программный код:</br>\n",
    "print(number_to_words(7))</br>\n",
    "print(number_to_words(85))\n",
    "\n",
    "должен выводить:</br>\n",
    "семь</br>\n",
    "восемьдесят пять"
   ]
  },
  {
   "cell_type": "code",
   "execution_count": null,
   "metadata": {},
   "outputs": [],
   "source": [
    "#данная задача сделана через словари, которые будут рассмотрены только курсе этого же автора, но для продвинутых.\n",
    "\n",
    "def number_to_words(num):\n",
    "    x={1:'один', 2:'два',3:'три', 4:'четыре', 5:'пять', 6:'шесть', 7:'семь', 8:'восемь', 9:'девять', 10:'десять'}\n",
    "    y={10:'десять',11:'одиннадцать', 12:'двенадцать', 13:'тринадцать', 14:'четырнадцать', 15:'пятнадцать', 16:'шестнадцать', 17:'семнадцать', 18:'восемнадцать', 19:'девятнадцать'}\n",
    "    z={2:'двадцать', 3:'тридцать', 4:'сорок', 5:'пятьдесят', 6:'шестьдесят', 7:'семьдесят', 8:'восемьдесят', 9:'девяносто'}\n",
    "    if 0<num<11:\n",
    "        result=x[num]\n",
    "    if 10<num<20:\n",
    "        result=y[num]\n",
    "    if num==20 or num==30 or num==30 or num==40 or num==50 or num==50 or num==60 or num==70 or num==80 or num==90:\n",
    "        result=z[num//10]\n",
    "    if 20<num<100 and num!=20 and num!=30 and num!=30 and num!=40 and num!=50 and num!=50 and num!=60 and num!=70 and num!=80 and num!=90:\n",
    "        z1=num//10\n",
    "        z2=num%10\n",
    "        result=z[z1], x[z2]\n",
    "    return result\n",
    "\n",
    "n = int(input())\n",
    "\n",
    "if 20<n<100 and n!=20 and n!=30 and n!=30 and n!=40 and n!=50 and n!=50 and n!=60 and n!=70 and n!=80 and n!=90:\n",
    "    print(*number_to_words(n), sep=' ')\n",
    "else:\n",
    "    print(number_to_words(n))"
   ]
  },
  {
   "attachments": {},
   "cell_type": "markdown",
   "metadata": {},
   "source": [
    "Искомый месяц\n",
    "\n",
    "Напишите функцию get_month(language, number), которая принимает на вход два аргумента language – язык ru или en и number – номер месяца (от 1 до 12) и возвращает название месяца на русском или английском языке.\n",
    "\n",
    "Примечание. Следующий программный код:</br>\n",
    "print(get_month('ru', 1))</br>\n",
    "print(get_month('ru', 12))</br>\n",
    "print(get_month('en', 1))</br>\n",
    "print(get_month('en', 10))\n",
    "\n",
    "должен выводить:</br>\n",
    "январь</br>\n",
    "декабрь</br>\n",
    "january</br>\n",
    "october"
   ]
  },
  {
   "cell_type": "code",
   "execution_count": null,
   "metadata": {},
   "outputs": [],
   "source": [
    "#данная задача сделана через словари, которые будут рассмотрены только курсе этого же автора, но для продвинутых.\n",
    "def get_month(language, number):\n",
    "    russian={1:'январь', 2:'февраль', 3:'март', 4:'апрель', 5:'май', 6:'июнь', 7:'июль', 8:'август', 9:'сентябрь', 10:'октябрь', 11:'ноябрь', 12:'декабрь'}\n",
    "    english={1:'january', 2:'february', 3:'march', 4:'april', 5:'may', 6:'june', 7:'july', 8:'august', 9:'september', 10:'october', 11:'november', 12:'december'}\n",
    "    if language=='ru':\n",
    "        return russian[number]\n",
    "    if language=='en':\n",
    "        return english[number]\n",
    "    \n",
    "lan = input()\n",
    "num = int(input())\n",
    "\n",
    "print(get_month(lan, num))"
   ]
  },
  {
   "attachments": {},
   "cell_type": "markdown",
   "metadata": {},
   "source": [
    "Магические даты\n",
    "\n",
    "Магическая дата – это дата, когда день, умноженный на месяц, равен числу образованному последними двумя цифрами года.\n",
    "\n",
    "Напишите функцию, is_magic(date) которая принимает в качестве аргумента строковое представление корректой даты и возвращает значение True если дата является магической и False в противном случае.\n",
    "\n",
    "Примечание. Следующий программный код:</br>\n",
    "print(is_magic('10.06.1960'))</br>\n",
    "print(is_magic('11.06.1960'))\n",
    "\n",
    "должен выводить:</br>\n",
    "True</br>\n",
    "False"
   ]
  },
  {
   "cell_type": "code",
   "execution_count": null,
   "metadata": {},
   "outputs": [],
   "source": [
    "def is_magic(date):\n",
    "    x=date.split('.')\n",
    "    x1=int(x[0])*int(x[1])\n",
    "    x2=int(x[-1])%100\n",
    "    return x1==x2\n",
    "\n",
    "date = input()\n",
    "\n",
    "print(is_magic(date))"
   ]
  },
  {
   "attachments": {},
   "cell_type": "markdown",
   "metadata": {},
   "source": [
    "Панграммы\n",
    "\n",
    "Панграмма – это фраза, содержащая в себе все буквы алфавита. Обычно панграммы используют для презентации шрифтов, чтобы можно было в одной фразе рассмотреть все глифы.\n",
    "\n",
    "Напишите функцию, is_pangram(text) которая принимает в качестве аргумента строку текста на английском языке и возвращает значение True если текст является панграммой и False в противном случае.\n",
    "\n",
    "Примечание 1. Гарантируется, что введенная строка содержит только буквы английского алфавита.\n",
    "\n",
    "Примечание 2. Следующий программный код:</br>\n",
    "print(is_pangram('Jackdaws love my big sphinx of quartz'))</br>\n",
    "print(is_pangram('The jay pig fox zebra and my wolves quack'))\n",
    "print(is_pangram('Hello world'))\n",
    "\n",
    "должен выводить:</br>\n",
    "True</br>\n",
    "True</br>\n",
    "False"
   ]
  },
  {
   "cell_type": "code",
   "execution_count": null,
   "metadata": {},
   "outputs": [],
   "source": [
    "def is_pangram(text):\n",
    "    x=[i for i in text if i.isalpha()]\n",
    "    if len(text)<25:\n",
    "        return False\n",
    "    else:\n",
    "        count=0\n",
    "        x2=[ord(i.lower()) for i in x]\n",
    "        for i in range(len(x2)):\n",
    "            if 97+i in x2: \n",
    "                count+=1\n",
    "        return count==26 \n",
    "    \n",
    "text = input()\n",
    "\n",
    "print(is_pangram(text))"
   ]
  }
 ],
 "metadata": {
  "kernelspec": {
   "display_name": "Python 3",
   "language": "python",
   "name": "python3"
  },
  "language_info": {
   "name": "python",
   "version": "3.11.2"
  },
  "orig_nbformat": 4
 },
 "nbformat": 4,
 "nbformat_minor": 2
}
