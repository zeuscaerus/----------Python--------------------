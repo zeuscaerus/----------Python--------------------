{
 "cells": [
  {
   "attachments": {},
   "cell_type": "markdown",
   "metadata": {},
   "source": [
    "10.2 Часть 2"
   ]
  },
  {
   "attachments": {},
   "cell_type": "markdown",
   "metadata": {},
   "source": [
    "Вставьте пропущенный фрагмент кода так, чтобы в результате выполнения программы была выведена длина строки s."
   ]
  },
  {
   "cell_type": "code",
   "execution_count": null,
   "metadata": {},
   "outputs": [],
   "source": [
    "s = 'Python rocks!'\n",
    "print(len(s))"
   ]
  },
  {
   "attachments": {},
   "cell_type": "markdown",
   "metadata": {},
   "source": [
    "Вставьте пропущенный фрагмент кода, так чтобы в результате выполнения программы был выведен четвертый символ строки s."
   ]
  },
  {
   "cell_type": "code",
   "execution_count": null,
   "metadata": {},
   "outputs": [],
   "source": [
    "s = 'Python rocks!'\n",
    "print(s[3])"
   ]
  },
  {
   "attachments": {},
   "cell_type": "markdown",
   "metadata": {},
   "source": [
    "Вставьте пропущенный фрагмент кода, так чтобы в результате выполнения программы были выведены символы строки s со 2 по 5 включительно."
   ]
  },
  {
   "cell_type": "code",
   "execution_count": null,
   "metadata": {},
   "outputs": [],
   "source": [
    "s = 'Python rocks!'\n",
    "print(s[1:5])"
   ]
  },
  {
   "attachments": {},
   "cell_type": "markdown",
   "metadata": {},
   "source": [
    "Вставьте пропущенный фрагмент кода, так чтобы в результате выполнения программы была выведена строка s без ведущих и замыкающих пробельных символов."
   ]
  },
  {
   "cell_type": "code",
   "execution_count": 1,
   "metadata": {},
   "outputs": [
    {
     "name": "stdout",
     "output_type": "stream",
     "text": [
      "Python rocks!\n"
     ]
    }
   ],
   "source": [
    "s = '    Python rocks!     '\n",
    "print(s.strip())"
   ]
  },
  {
   "attachments": {},
   "cell_type": "markdown",
   "metadata": {},
   "source": [
    "Вставьте пропущенный фрагмент кода, так чтобы в результате выполнения программы была выведена строка s заглавными буквами (в верхнем регистре)."
   ]
  },
  {
   "cell_type": "code",
   "execution_count": 2,
   "metadata": {},
   "outputs": [
    {
     "name": "stdout",
     "output_type": "stream",
     "text": [
      "PYTHON ROCKS!\n"
     ]
    }
   ],
   "source": [
    "s = 'Python rocks!'\n",
    "print(s.upper())"
   ]
  },
  {
   "attachments": {},
   "cell_type": "markdown",
   "metadata": {},
   "source": [
    "Вставьте пропущенный фрагмент кода, так чтобы в результате выполнения программы была выведена строка s в которой символ «o» заменен на символ «@»."
   ]
  },
  {
   "cell_type": "code",
   "execution_count": 3,
   "metadata": {},
   "outputs": [
    {
     "name": "stdout",
     "output_type": "stream",
     "text": [
      "Pyth@n r@cks!\n"
     ]
    }
   ],
   "source": [
    "s = 'Python rocks!'\n",
    "print(s.replace('o', '@'))"
   ]
  },
  {
   "attachments": {},
   "cell_type": "markdown",
   "metadata": {},
   "source": [
    "Каждый третий\n",
    "\n",
    "На вход программе подается строка текста. Напишите программу, которая удаляет из нее все символы с индексами кратными 3, то есть символы с индексами 0, 3, 6, ....\n",
    "\n",
    "Формат входных данных: \n",
    "На вход программе подается строка текста.\n",
    "\n",
    "Формат выходных данных: \n",
    "Программа должна вывести строку текста в соответствии с условием задачи."
   ]
  },
  {
   "cell_type": "code",
   "execution_count": null,
   "metadata": {},
   "outputs": [],
   "source": [
    "x=input()\n",
    "for i in range(len(x)):\n",
    "    if i%3!=0:\n",
    "        print(x[i],end='')"
   ]
  },
  {
   "attachments": {},
   "cell_type": "markdown",
   "metadata": {},
   "source": [
    "Замени меня полностью\n",
    "\n",
    "На вход программе подается строка текста. Напишите программу, которая заменяет все вхождения цифры 1 на слово «one».\n",
    "\n",
    "Формат входных данных: \n",
    "На вход программе подается строка текста.\n",
    "\n",
    "Формат выходных данных: \n",
    "Программа должна вывести текст в соответствии с условием задачи."
   ]
  },
  {
   "cell_type": "code",
   "execution_count": null,
   "metadata": {},
   "outputs": [],
   "source": [
    "x=input()\n",
    "print(x.replace('1', 'one'))"
   ]
  },
  {
   "attachments": {},
   "cell_type": "markdown",
   "metadata": {},
   "source": [
    "Удали меня полностью\n",
    "\n",
    "На вход программе подается строка текста. Напишите программу, которая удаляет все вхождения символа «@».\n",
    "\n",
    "Формат входных данных: \n",
    "На вход программе подается строка текста.\n",
    "\n",
    "Формат выходных данных: \n",
    "Программа должна вывести текст в соответствии с условием задачи."
   ]
  },
  {
   "cell_type": "code",
   "execution_count": null,
   "metadata": {},
   "outputs": [],
   "source": [
    "x=input()\n",
    "print(x.replace('@', ''))"
   ]
  },
  {
   "attachments": {},
   "cell_type": "markdown",
   "metadata": {},
   "source": [
    "Второе вхождение\n",
    "\n",
    "На вход программе подается строка текста. Напишите программу, которая выводит индекс второго вхождения буквы «f». Если буква «f» встречается только один раз, выведите число -1, а если не встречается ни разу, выведите число -2.\n",
    "\n",
    "Формат входных данных: \n",
    "На вход программе подается строка текста.\n",
    "\n",
    "Формат выходных данных: \n",
    "Программа должна вывести текст в соответствии с условием задачи."
   ]
  },
  {
   "cell_type": "code",
   "execution_count": null,
   "metadata": {},
   "outputs": [],
   "source": [
    "x=input()\n",
    "z=x.count('f')\n",
    "if z==0:\n",
    "    print('-2')\n",
    "elif z==1:\n",
    "    print(-1)\n",
    "else:\n",
    "    y=x.replace('f','@', 1)\n",
    "    print(y.find('f'))"
   ]
  },
  {
   "attachments": {},
   "cell_type": "markdown",
   "metadata": {},
   "source": [
    "Переворот\n",
    "\n",
    "На вход программе подается строка текста в которой буква «h» встречается как минимум два раза. Напишите программу, которая возвращает исходную строку и переворачивает последовательность символов, заключенную между первым и последним вхождением буквы «h».\n",
    "\n",
    "Формат входных данных: \n",
    "На вход программе подается строка текста.\n",
    "\n",
    "Формат выходных данных: \n",
    "Программа должна вывести текст в соответствии с условием задачи."
   ]
  },
  {
   "cell_type": "code",
   "execution_count": null,
   "metadata": {},
   "outputs": [],
   "source": [
    "x=input()\n",
    "a=x.find('h')\n",
    "b=x.rfind('h')\n",
    "c=x[a+1:b]\n",
    "c=c[::-1]\n",
    "print(x[0:a+1]+c+x[b:])"
   ]
  }
 ],
 "metadata": {
  "kernelspec": {
   "display_name": "Python 3",
   "language": "python",
   "name": "python3"
  },
  "language_info": {
   "codemirror_mode": {
    "name": "ipython",
    "version": 3
   },
   "file_extension": ".py",
   "mimetype": "text/x-python",
   "name": "python",
   "nbconvert_exporter": "python",
   "pygments_lexer": "ipython3",
   "version": "3.11.2"
  },
  "orig_nbformat": 4,
  "vscode": {
   "interpreter": {
    "hash": "3930fa8174d0228d9e395ec6231f5c9aec035e2f3ca2c882a5c45971fd8e14a2"
   }
  }
 },
 "nbformat": 4,
 "nbformat_minor": 2
}
