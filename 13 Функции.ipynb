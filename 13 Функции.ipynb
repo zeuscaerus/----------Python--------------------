{
 "cells": [
  {
   "attachments": {},
   "cell_type": "markdown",
   "metadata": {},
   "source": [
    "13.1 Функции без параметров"
   ]
  },
  {
   "attachments": {},
   "cell_type": "markdown",
   "metadata": {},
   "source": [
    "Звездный прямоугольник 1\n",
    "\n",
    "Напишите функцию draw_box(), которая выводит звездный прямоугольник с размерами 14×10."
   ]
  },
  {
   "cell_type": "code",
   "execution_count": null,
   "metadata": {},
   "outputs": [],
   "source": [
    "def draw_box():\n",
    "    for i in range(0,14):\n",
    "        if i==0 or i==13:\n",
    "            print('*'*10)\n",
    "        else:\n",
    "            print('*'+' '*8+'*')\n",
    "            \n",
    "draw_box()"
   ]
  },
  {
   "attachments": {},
   "cell_type": "markdown",
   "metadata": {},
   "source": [
    "Звездный треугольник 1\n",
    "\n",
    "Напишите функцию draw_triangle(), которая выводит звездный прямоугольный треугольник с катетами, равными 10."
   ]
  },
  {
   "cell_type": "code",
   "execution_count": null,
   "metadata": {},
   "outputs": [],
   "source": [
    "def draw_triangle():\n",
    "    for i in range(10):\n",
    "        print('*'*(i+1))\n",
    "        \n",
    "draw_triangle()"
   ]
  },
  {
   "attachments": {},
   "cell_type": "markdown",
   "metadata": {},
   "source": [
    "13.2 Функции с параметрами"
   ]
  },
  {
   "attachments": {},
   "cell_type": "markdown",
   "metadata": {},
   "source": [
    "Звездный треугольник\n",
    "\n",
    "Напишите функцию draw_triangle(fill, base), которая принимает два параметра:\n",
    "\n",
    "fill – символ заполнитель;</br>\n",
    "base – величина основания равнобедренного треугольника;</br>\n",
    "а затем выводит его.\n",
    "\n",
    "Примечание. Гарантируется, что основание треугольника – нечетное число."
   ]
  },
  {
   "cell_type": "code",
   "execution_count": null,
   "metadata": {},
   "outputs": [],
   "source": [
    "def draw_triangle(fill, base):\n",
    "    z=int((base-1)/2)\n",
    "    for i in range(1, z+1):\n",
    "        print(fill*i)\n",
    "    print(fill*round(base/2+0.0000000001))\n",
    "    for j in reversed(range(1,z+1)):\n",
    "        print(fill*j)\n",
    "        \n",
    "fill=input()\n",
    "base=int(input())\n",
    "\n",
    "draw_triangle(fill, base)"
   ]
  },
  {
   "attachments": {},
   "cell_type": "markdown",
   "metadata": {},
   "source": [
    "ФИО\n",
    "\n",
    "Напишите функцию print_fio(name, surname, patronymic), которая принимает три параметра:\n",
    "\n",
    "name – имя человека;</br>\n",
    "surname – фамилия человека;</br>\n",
    "patronymic – отчество человека;</br>\n",
    "а затем выводит на печать ФИО человека.\n",
    "\n",
    "Примечание. Предусмотрите тот факт, что все три буквы в ФИО должны иметь верхний регистр."
   ]
  },
  {
   "cell_type": "code",
   "execution_count": null,
   "metadata": {},
   "outputs": [],
   "source": [
    "def print_fio(name, surname, patronymic):\n",
    "    print(surname[0].upper(), name[0].upper(),patronymic[0].upper(), sep='')\n",
    "    \n",
    "name, surname, patronymic = input(), input(), input()\n",
    "\n",
    "print_fio(name, surname, patronymic)"
   ]
  },
  {
   "attachments": {},
   "cell_type": "markdown",
   "metadata": {},
   "source": [
    "Сумма цифр\n",
    "\n",
    "Напишите функцию print_digit_sum(), которая принимает одно целое число num и выводит на печать сумму его цифр."
   ]
  },
  {
   "cell_type": "code",
   "execution_count": null,
   "metadata": {},
   "outputs": [],
   "source": [
    "def print_digit_sum(num):\n",
    "    print(sum(n))\n",
    "n=map(int,input())\n",
    "\n",
    "print_digit_sum(n)"
   ]
  },
  {
   "attachments": {},
   "cell_type": "markdown",
   "metadata": {},
   "source": [
    "13.4 Функции с возвратом значения. Часть 1"
   ]
  },
  {
   "attachments": {},
   "cell_type": "markdown",
   "metadata": {},
   "source": [
    "Конвертер километров\n",
    "\n",
    "Напишите функцию convert_to_miles(km), которая принимает в качестве аргумента расстояние в километрах и возвращает расстояние в милях. Формула для преобразования: мили = километры * 0.6214.\n",
    "\n",
    "Примечание. Следующий программный код:</br>\n",
    "print(convert_to_miles(1))</br>\n",
    "print(convert_to_miles(5))</br>\n",
    "print(convert_to_miles(10))\n",
    "\n",
    "должен выводить:</br>\n",
    "0.6214</br>\n",
    "3.107</br>\n",
    "6.214"
   ]
  },
  {
   "cell_type": "code",
   "execution_count": null,
   "metadata": {},
   "outputs": [],
   "source": [
    "def convert_to_miles(km):\n",
    "    return (num*0.6214)\n",
    "\n",
    "num = int(input())\n",
    "\n",
    "print(convert_to_miles(num))"
   ]
  },
  {
   "attachments": {},
   "cell_type": "markdown",
   "metadata": {},
   "source": [
    "Количество дней\n",
    "\n",
    "Напишите функцию get_days(month), которая принимает в качестве аргумента номер месяца и возвращает количество дней в данном месяце.\n",
    "\n",
    "Примечание 1. Гарантируется, что передаваемый аргумент находится в диапазоне от 1 до 12.\n",
    "\n",
    "Примечание 2. Считайте, что год является невисокосным.\n",
    "\n",
    "Примечание 3. Следующий программный код:</br>\n",
    "print(get_days(1))</br>\n",
    "print(get_days(2))</br>\n",
    "print(get_days(9))\n",
    "\n",
    "должен выводить:</br>\n",
    "31</br>\n",
    "28</br>\n",
    "30"
   ]
  },
  {
   "cell_type": "code",
   "execution_count": null,
   "metadata": {},
   "outputs": [],
   "source": [
    "def get_days(month):\n",
    "    if num==1 or num==3 or num==5 or num==7 or num==8 or num==10 or num==12:\n",
    "        return 31\n",
    "    elif num==2:\n",
    "        return 28\n",
    "    else:\n",
    "        return 30    \n",
    "\n",
    "num = int(input())\n",
    "\n",
    "print(get_days(num))"
   ]
  },
  {
   "attachments": {},
   "cell_type": "markdown",
   "metadata": {},
   "source": [
    "Делители 1\n",
    "\n",
    "Напишите функцию get_factors(num), принимающую в качестве аргумента натуральное число и возвращающую список всех делителей данного числа.\n",
    "\n",
    "Примечание. Следующий программный код:</br>\n",
    "print(get_factors(1))</br>\n",
    "print(get_factors(5))</br>\n",
    "print(get_factors(10))\n",
    "\n",
    "должен выводить:</br>\n",
    "[1]</br>\n",
    "[1, 5]</br>\n",
    "[1, 2, 5, 10]"
   ]
  },
  {
   "cell_type": "code",
   "execution_count": null,
   "metadata": {},
   "outputs": [],
   "source": [
    "def get_factors(num):\n",
    "    digits=[]\n",
    "    for i in range(1,num+1):\n",
    "        if num%i==0:\n",
    "            digits.append(i)\n",
    "    return digits\n",
    "\n",
    "n = int(input())\n",
    "\n",
    "print(get_factors(n))"
   ]
  },
  {
   "attachments": {},
   "cell_type": "markdown",
   "metadata": {},
   "source": [
    "Делители 2\n",
    "\n",
    "Напишите функцию number_of_factors(num), принимающую в качестве аргумента число и возвращающую количество делителей данного числа.\n",
    "\n",
    "Примечание 1. Используйте уже реализованную функцию get_factors(num) из предыдущей задачи.\n",
    "\n",
    "Примечание 2. Следующий программный код:</br>\n",
    "print(number_of_factors(1))</br>\n",
    "print(number_of_factors(5))</br>\n",
    "print(number_of_factors(10))\n",
    "\n",
    "должен выводить:</br>\n",
    "1</br>\n",
    "2</br>\n",
    "4"
   ]
  },
  {
   "cell_type": "code",
   "execution_count": null,
   "metadata": {},
   "outputs": [],
   "source": [
    "def get_factors(num):\n",
    "    return len([i for i in range(1, num+1) if num % i == 0])\n",
    "\n",
    "n = int(input())\n",
    "\n",
    "print(get_factors(n))\n"
   ]
  },
  {
   "attachments": {},
   "cell_type": "markdown",
   "metadata": {},
   "source": [
    "Найти всех\n",
    "\n",
    "Напомним, что строковый метод find('a') возвращает местоположение первого вхождения символа a в строке. Проблема заключается в том, что данный метод не находит местоположение всех символов а.\n",
    "\n",
    "Напишите функцию с именем find_all(target, symbol), которая принимает два аргумента: строку target и символ symbol и возвращает список, содержащий все местоположения этого символа в строке.\n",
    "\n",
    "Примечание 1. Если указанный символ не встречается в строке, то следует вернуть пустой список.\n",
    "\n",
    "Примечание 2. Следующий программный код:</br>\n",
    "print(find_all('abcdabcaaa', 'a'))</br>\n",
    "print(find_all('abcadbcaaa', 'e'))</br>\n",
    "print(find_all('abcadbcaaa', 'd'))\n",
    "\n",
    "должен выводить:</br>\n",
    "[0, 4, 7, 8, 9]</br>\n",
    "[]</br>\n",
    "[4]"
   ]
  },
  {
   "cell_type": "code",
   "execution_count": null,
   "metadata": {},
   "outputs": [],
   "source": [
    "def find_all(target, symbol):\n",
    "    result=[]\n",
    "    for i in range(len(target)):\n",
    "        if symbol in target[i]:\n",
    "            result.append(i)\n",
    "    return result\n",
    "\n",
    "s = input()\n",
    "char = input()\n",
    "\n",
    "print(find_all(s, char))"
   ]
  },
  {
   "attachments": {},
   "cell_type": "markdown",
   "metadata": {},
   "source": [
    "Merge lists 1\n",
    "\n",
    "Напишите функцию merge(list1, list2), которая принимает в качестве аргументов два отсортированных по возрастанию списка, состоящих из целых чисел, и объединяет их в один отсортированный список.\n",
    "\n",
    "Примечание 1. Списки list1 и list2 могут иметь разную длину.\n",
    "\n",
    "Примечание 2. Можно использовать списочный метод sort(), а можно обойтись и без него 😎.\n",
    "\n",
    "Примечание 3. Следующий программный код:</br>\n",
    "print(merge([1, 2, 3], [5, 6, 7, 8]))</br>\n",
    "print(merge([1, 7, 10, 16], [5, 6, 13, 20]))\n",
    "\n",
    "должен выводить:</br>\n",
    "[1, 2, 3, 5, 6, 7, 8]</br>\n",
    "[1, 5, 6, 7, 10, 13, 16, 20]"
   ]
  },
  {
   "cell_type": "code",
   "execution_count": null,
   "metadata": {},
   "outputs": [],
   "source": [
    "def merge(list1, list2):\n",
    "    return sorted(list1+list2)\n",
    "\n",
    "numbers1 = [int(c) for c in input().split()]\n",
    "numbers2 = [int(c) for c in input().split()]\n",
    "\n",
    "print(merge(numbers1, numbers2))"
   ]
  },
  {
   "attachments": {},
   "cell_type": "markdown",
   "metadata": {},
   "source": [
    "Merge lists 2\n",
    "\n",
    "На вход программе подается число n, а затем n строк, содержащих целые числа в порядке возрастания. Из данных строк формируются списки чисел. Напишите программу, которая объединяет указанные списки в один отсортированный список с помощью функции quick_merge(), а затем выводит его.\n",
    "\n",
    "Формат входных данных: \n",
    "На вход программе подается натуральное число n, а затем n строк, содержащих целые числа в порядке возрастания, разделенные символом пробела.\n",
    "\n",
    "Формат выходных данных: \n",
    "Программа должна вывести текст в соответствии с условием задачи."
   ]
  },
  {
   "cell_type": "code",
   "execution_count": null,
   "metadata": {},
   "outputs": [],
   "source": [
    "def quick_merge (times):\n",
    "    result=[]\n",
    "    for i in range(times):\n",
    "        result+=([int(c) for c in input().split()])\n",
    "    return sorted(result)\n",
    "    \n",
    "x=int(input())\n",
    "\n",
    "print(*quick_merge(x), sep=' ')\n"
   ]
  },
  {
   "attachments": {},
   "cell_type": "markdown",
   "metadata": {},
   "source": [
    "13.5 Функции с возвратом значения. Часть 2"
   ]
  },
  {
   "attachments": {},
   "cell_type": "markdown",
   "metadata": {},
   "source": [
    "Is Valid Triangle?\n",
    "\n",
    "Напишите функцию is_valid_triangle(side1, side2, side3), которая принимает в качестве аргументов три натуральных числа, и возвращает значение True если существует невырожденный треугольник со сторонами side1, side2, side3 и False в противном случае.\n",
    "\n",
    "Примечание 1. С данной задачей мы уже сталкивались при изучении условного оператора.\n",
    "\n",
    "Примечание 2. Следующий программный код:</br>\n",
    "print(is_valid_triangle(2, 2, 2))</br>\n",
    "print(is_valid_triangle(2, 3, 10))</br>\n",
    "print(is_valid_triangle(3, 4, 5))\n",
    "\n",
    "должен выводить:</br>\n",
    "True</br>\n",
    "False</br>\n",
    "True"
   ]
  },
  {
   "cell_type": "code",
   "execution_count": null,
   "metadata": {},
   "outputs": [],
   "source": [
    "def is_valid_triangle(side1, side2, side3):\n",
    "    if side1+side2>side3 and side1+side3>side2 and side2+side3>side1:\n",
    "        return True\n",
    "    else:\n",
    "        return False\n",
    "    \n",
    "x,y,z=int(input()), int(input()), int(input())\n",
    "\n",
    "print(is_valid_triangle(x,y,z))"
   ]
  },
  {
   "attachments": {},
   "cell_type": "markdown",
   "metadata": {},
   "source": [
    "Is a Number Prime? 🌶️\n",
    "\n",
    "Напишите функцию is_prime(num), которая принимает в качестве аргумента натуральное число и возвращает значение True если число является простым и False в противном случае.\n",
    "\n",
    "Примечание. Следующий программный код:</br>\n",
    "print(is_prime(1))</br>\n",
    "print(is_prime(10))</br>\n",
    "print(is_prime(17))\n",
    "\n",
    "должен выводить:</br>\n",
    "False</br>\n",
    "False</br>\n",
    "True"
   ]
  },
  {
   "cell_type": "code",
   "execution_count": null,
   "metadata": {},
   "outputs": [],
   "source": [
    "def is_prime(number):\n",
    "    count=0\n",
    "    for i in range(1,number+1):\n",
    "        if number%i==0:\n",
    "            count+=1\n",
    "    if count==2:\n",
    "        return True\n",
    "    else:\n",
    "        return False\n",
    "\n",
    "n = int(input())\n",
    "\n",
    "print(is_prime(n))"
   ]
  },
  {
   "attachments": {},
   "cell_type": "markdown",
   "metadata": {},
   "source": [
    "Next Prime 🌶️🌶️\n",
    "\n",
    "Напишите функцию get_next_prime(num), которая принимает в качестве аргумента натуральное число num и возвращает первое простое число большее числа num.\n",
    "\n",
    "Примечание 1. Используйте функцию is_prime() из предыдущей задачи.\n",
    "\n",
    "Примечание 2. Следующий программный код:</br>\n",
    "print(get_next_prime(6))</br>\n",
    "print(get_next_prime(7))</br>\n",
    "print(get_next_prime(14))\n",
    "\n",
    "должен выводить:</br>\n",
    "7</br>\n",
    "11</br>\n",
    "17"
   ]
  },
  {
   "cell_type": "code",
   "execution_count": null,
   "metadata": {},
   "outputs": [],
   "source": [
    "def is_prime(num):\n",
    "    return len([i for i in range(1, num+1) if num % i == 0]) == 2\n",
    "\n",
    "def get_next_prime(num):\n",
    "    while is_prime(num)==False:\n",
    "        num+=1\n",
    "        if is_prime==True:\n",
    "            break\n",
    "    return num\n",
    "\n",
    "n = int(input())\n",
    "\n",
    "print(get_next_prime(n+1))"
   ]
  },
  {
   "attachments": {},
   "cell_type": "markdown",
   "metadata": {},
   "source": [
    "Good password 🌶️\n",
    "\n",
    "Напишите функцию is_password_good(password), которая принимает в качестве аргумента строковое значение пароля password и возвращает значение True если пароль является надежным и False в противном случае.\n",
    "\n",
    "Пароль является надежным если:\n",
    "\n",
    "его длина не менее 8 символов;</br>\n",
    "он содержит как минимум одну заглавную букву (верхний регистр);</br>\n",
    "он содержит как минимум одну строчную букву (нижний регистр);</br>\n",
    "он содержит хотя бы одну цифру.\n",
    "\n",
    "Примечание. Следующий программный код:</br>\n",
    "print(is_password_good('aabbCC11OP'))</br>\n",
    "print(is_password_good('abC1pu'))\n",
    "\n",
    "должен выводить:</br>\n",
    "True</br>\n",
    "False"
   ]
  },
  {
   "cell_type": "code",
   "execution_count": null,
   "metadata": {},
   "outputs": [],
   "source": [
    "def is_password_good(password):\n",
    "    num=str(1234567890)\n",
    "    if len(password)>7:\n",
    "        if any(ch.isdigit() for ch in password)==True:\n",
    "            if any(ch.istitle() for ch in password)==True:\n",
    "                if any(ch.islower() for ch in password)==True:\n",
    "                    return True\n",
    "                else:\n",
    "                    return False\n",
    "            else:\n",
    "                return False\n",
    "        else:\n",
    "            return False\n",
    "    else:\n",
    "        return False\n",
    "\n",
    "txt = input()\n",
    "\n",
    "print(is_password_good(txt))"
   ]
  },
  {
   "attachments": {},
   "cell_type": "markdown",
   "metadata": {},
   "source": [
    "Ровно в одном\n",
    "\n",
    "Напишите функцию is_one_away(word1, word2), которая принимает в качестве аргументов два слова word1 и word2 и возвращает значение True если слова имеют одинаковую длину и отличаются ровно в 1 символе и False в противном случае.\n",
    "\n",
    "Примечание. Следующий программный код:</br>\n",
    "print(is_one_away('bike', 'hike'))</br>\n",
    "print(is_one_away('water', 'wafer'))</br>\n",
    "print(is_one_away('abcd', 'abpo'))</br>\n",
    "print(is_one_away('abcd', 'abcde'))\n",
    "\n",
    "должен выводить:</br>\n",
    "True</br>\n",
    "True</br>\n",
    "False</br>\n",
    "False"
   ]
  },
  {
   "cell_type": "code",
   "execution_count": null,
   "metadata": {},
   "outputs": [],
   "source": [
    "def is_one_away(word1,word2):\n",
    "    count=0\n",
    "    if len(word1)==len(word2):\n",
    "        for i in range(len(word1)):\n",
    "            if word1[i] not in word2[i]:\n",
    "                count+=1\n",
    "    else:\n",
    "        return False\n",
    "    return count==1\n",
    "\n",
    "txt1 = input()\n",
    "txt2 = input()\n",
    "\n",
    "print(is_one_away(txt1, txt2))"
   ]
  },
  {
   "attachments": {},
   "cell_type": "markdown",
   "metadata": {},
   "source": [
    "Палиндром 🌶️\n",
    "\n",
    "Напишите функцию is_palindrome(text), которая принимает в качестве аргумента строку text и возвращает значение True если указанный текст является палиндромом и False в противном случае.\n",
    "\n",
    "Примечание 1. Палиндром – это строка, которая читается одинаково в обоих направлениях\n",
    "\n",
    "Примечание 2. При проверке считайте большие и маленькие буквы одинаковыми, а также игнорируйте пробелы, а также символы , . ! ? -.\n",
    "\n",
    "Примечание 3. Следующий программный код:</br>\n",
    "print(is_palindrome('А роза упала на лапу Азора.'))</br>\n",
    "print(is_palindrome('Gabler Ruby - burrel bag!'))</br>\n",
    "print(is_palindrome('BEEGEEK'))\n",
    "\n",
    "должен выводить:</br>\n",
    "True</br>\n",
    "True</br>\n",
    "False"
   ]
  },
  {
   "cell_type": "code",
   "execution_count": null,
   "metadata": {},
   "outputs": [],
   "source": [
    "def is_palindrome(text):\n",
    "    let=[i for i in text.lower() if i.isalpha()]\n",
    "    tel=let[::-1]\n",
    "    return let==tel\n",
    "\n",
    "txt = input()\n",
    "\n",
    "print(is_palindrome(txt))"
   ]
  },
  {
   "attachments": {},
   "cell_type": "markdown",
   "metadata": {},
   "source": [
    "BEEGEEK\n",
    "\n",
    "BEEGEEK наконец открыл свой банк в котором используются специальные банкоматы с необычным паролем.\n",
    "\n",
    "Действительный пароль BEEGEEK банка имеет вид a:b:c, где a, b и c – натуральные числа. Поскольку основатель BEEGEEK фанатеет от математики, то он решил:</br>\n",
    "число a – должно быть палиндромом;</br>\n",
    "число b – должно быть простым;</br>\n",
    "число c – должно быть четным.\n",
    "\n",
    "Напишите функцию is_valid_password(password), которая принимает в качестве аргумента строковое значение пароля password и возвращает значение True если пароль является действительным паролем BEEGEEK банка и False в противном случае.\n",
    "\n",
    "Примечание. Следующий программный код:</br>\n",
    "print(is_valid_password('1221:101:22'))</br>\n",
    "print(is_valid_password('565:30:50'))</br>\n",
    "print(is_valid_password('112:7:9'))</br>\n",
    "print(is_valid_password('1221:101:22:22'))\n",
    "\n",
    "должен выводить:</br>\n",
    "True</br>\n",
    "False</br>\n",
    "False</br>\n",
    "False"
   ]
  },
  {
   "cell_type": "code",
   "execution_count": null,
   "metadata": {},
   "outputs": [],
   "source": [
    "def is_valid_password(password):\n",
    "    password=password.split(':')\n",
    "    stage1=password[0]\n",
    "    stage2=int(password[1])\n",
    "    stage2=len([i for i in range(1, stage2+1) if stage2 % i == 0])\n",
    "    stage3=int(password[2])\n",
    "    return stage1==stage1[::-1] and stage2==2 and stage3%2==0 and len(password)==3\n",
    "\n",
    "psw = input()\n",
    "\n",
    "print(is_valid_password(psw))"
   ]
  },
  {
   "attachments": {},
   "cell_type": "markdown",
   "metadata": {},
   "source": [
    "Правильная скобочная последовательность 🌶️\n",
    "\n",
    "Напишите функцию is_correct_bracket(text), которая принимает в качестве аргумента непустую строку text, состоящую из символов ( и ) и возвращает значение True если поступившая на вход строка является правильной скобочной последовательностью и False в противном случае.\n",
    "\n",
    "Примечание 1. Правильной скобочной последовательностью называется строка, состоящая только из символов ( и ), где каждой открывающей скобке найдется парная закрывающая скобка.\n",
    "\n",
    "Примечание 2. Следующий программный код:</br>\n",
    "print(is_correct_bracket('()(()())'))</br>\n",
    "print(is_correct_bracket(')(())('))\n",
    "\n",
    "должен выводить:</br>\n",
    "True</br>\n",
    "False"
   ]
  },
  {
   "cell_type": "code",
   "execution_count": null,
   "metadata": {},
   "outputs": [],
   "source": [
    "def is_correct_bracket(text):\n",
    "    return text[0]=='(' and text[-1]==')' and text.count('(')==text.count(')') and (text[1]!=')'or text[2]!=')')\n",
    "\n",
    "txt = input()\n",
    "\n",
    "print(is_correct_bracket(txt))"
   ]
  },
  {
   "attachments": {},
   "cell_type": "markdown",
   "metadata": {},
   "source": [
    "Змеиный регистр\n",
    "\n",
    "Напишите функцию convert_to_python_case(text), которая принимает в качестве аргумента строку в «верблюжьем регистре» и преобразует его в «змеиный регистр».\n",
    "\n",
    "Примечание 1. Почитать подробнее о стилях именования можно тут.\n",
    "\n",
    "Примечание 2. Следующий программный код:</br>\n",
    "print(convert_to_python_case('ThisIsCamelCased'))</br>\n",
    "print(convert_to_python_case('IsPrimeNumber'))\n",
    "\n",
    "должен выводить:</br>\n",
    "this_is_camel_cased</br>\n",
    "is_prime_number"
   ]
  },
  {
   "cell_type": "code",
   "execution_count": null,
   "metadata": {},
   "outputs": [],
   "source": [
    "def convert_to_python_case(text):\n",
    "    import re\n",
    "    z=re.sub( r\"([A-Z])\", r\" \\1\", text).split()\n",
    "    z=[i.lower() for i in z]\n",
    "    return str('_'.join(z))\n",
    "\n",
    "txt = input()\n",
    "\n",
    "print(convert_to_python_case(txt))"
   ]
  },
  {
   "attachments": {},
   "cell_type": "markdown",
   "metadata": {},
   "source": [
    "13.6 Функции с возвратом значения. Часть 3"
   ]
  },
  {
   "attachments": {},
   "cell_type": "markdown",
   "metadata": {},
   "source": [
    "Середина отрезка\n",
    "\n",
    "Напишите функцию get_middle_point(x1, y1, x2, y2), которая принимает в качестве аргументов координаты концов отрезка (x1; y1) и (x2; y2) и возвращает координаты точки являющейся серединой данного отрезка.\n",
    "\n",
    "Примечание 1. Координаты середины отрезка с концами в точках (x1; y1) и (x2; y2) вычисляются по формуле: ((x1+x2)/2; (y1+y2)/2).\n",
    "\n",
    "Примечание 2. Следующий программный код:</br>\n",
    "print(get_middle_point(0, 0, 10, 0))</br>\n",
    "print(get_middle_point(1, 5, 8, 3))\n",
    "\n",
    "должен выводить:</br>\n",
    "5.0 0.0</br>\n",
    "4.5 4.0"
   ]
  },
  {
   "cell_type": "code",
   "execution_count": null,
   "metadata": {},
   "outputs": [],
   "source": [
    "def get_middle_point(x1, y1, x2, y2):\n",
    "    x=(x1+x2)/2\n",
    "    y=(y1+y2)/2\n",
    "    return x,y\n",
    "\n",
    "x_1, y_1 = int(input()), int(input())\n",
    "x_2, y_2 = int(input()), int(input())\n",
    "\n",
    "x, y = get_middle_point(x_1, y_1, x_2, y_2)\n",
    "print(x, y)"
   ]
  },
  {
   "attachments": {},
   "cell_type": "markdown",
   "metadata": {},
   "source": [
    "Площадь и длина\n",
    "\n",
    "Напишите функцию get_circle(radius), которая принимает в качестве аргумента радиус окружности и возвращает два значения: длину окружности и площадь круга, ограниченного данной окружностью.\n",
    "\n",
    "Примечание 1. Длина окружности и площадь круга радиуса r вычисляются по формулам: С = 2 * π * r, S = π * r^2.\n",
    "Примечание 2. Для числа π используйте глобальную константу из модуля math.\n",
    "\n",
    "Примечание 3. Следующий программный код:</br>\n",
    "print(get_circle(1))</br>\n",
    "print(get_circle(1.5))\n",
    "\n",
    "должен выводить:</br>\n",
    "6.283185307179586 3.141592653589793</br>\n",
    "9.42477796076938 7.0685834705770345"
   ]
  },
  {
   "cell_type": "code",
   "execution_count": null,
   "metadata": {},
   "outputs": [],
   "source": [
    "def get_circle(radius):\n",
    "    from math import pi\n",
    "    c=2*(pi*radius)\n",
    "    s=pi*radius**2\n",
    "    return c, s\n",
    "\n",
    "r = float(input())\n",
    "\n",
    "length, square = get_circle(r)\n",
    "print(length, square)"
   ]
  },
  {
   "attachments": {},
   "cell_type": "markdown",
   "metadata": {},
   "source": [
    "Корни уравнения 🌶️🌶️\n",
    "\n",
    "Напишите функцию solve(a, b, c), которая принимает в качестве аргументов три целых числа a, b, c – коэффициенты квадратного уравнения ax^2+bx+c=0 и возвращает его корни в порядке возрастания.\n",
    "\n",
    "Примечание 1. С подобной задачей мы уже сталкивались.\n",
    "\n",
    "Примечание 2. Гарантируется, что квадратное уравнение имеет корни.\n",
    "\n",
    "Примечание 3. Следующий программный код:</br>\n",
    "print(solve(1, -4, -5))</br>\n",
    "print(solve(-2, 7, -5))</br>\n",
    "print(solve(1, 2, 1))\n",
    "\n",
    "должен выводить:</br>\n",
    "-1.0 5.0</br>\n",
    "1.0 2.5</br>\n",
    "-1.0 -1.0"
   ]
  },
  {
   "cell_type": "code",
   "execution_count": null,
   "metadata": {},
   "outputs": [],
   "source": [
    "def solve(a, b, c):\n",
    "    d=b**2-4*a*c\n",
    "    x1=(-b-d**0.5)/(2*a)\n",
    "    x2=(-b +d**0.5)/(2*a)\n",
    "    return min(x1,x2), max(x1,x2)\n",
    "\n",
    "a, b, c = int(input()), int(input()), int(input())\n",
    "x1, x2 = solve(a, b, c)\n",
    "\n",
    "print(x1, x2)"
   ]
  }
 ],
 "metadata": {
  "kernelspec": {
   "display_name": "Python 3",
   "language": "python",
   "name": "python3"
  },
  "language_info": {
   "name": "python",
   "version": "3.11.2"
  },
  "orig_nbformat": 4
 },
 "nbformat": 4,
 "nbformat_minor": 2
}
